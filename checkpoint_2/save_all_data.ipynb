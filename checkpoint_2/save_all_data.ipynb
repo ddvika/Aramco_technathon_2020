{
 "cells": [
  {
   "cell_type": "code",
   "execution_count": 8,
   "metadata": {},
   "outputs": [],
   "source": [
    "# Required libraries  \n",
    "from utils import one_hot_encode, binarize_data, binarize_3d, plot_central_planes, plot_3d, create_dir\n",
    "   \n",
    "import os\n",
    "import glob\n",
    "import time\n",
    "import matplotlib.pyplot as plt\n",
    "import numpy as np\n",
    "from scipy.io import loadmat\n",
    "import matplotlib.pyplot as plt\n",
    "from mpl_toolkits.mplot3d import Axes3D\n",
    "import numpy as np\n",
    "from matplotlib import cm\n",
    "import cv2"
   ]
  },
  {
   "cell_type": "code",
   "execution_count": 9,
   "metadata": {},
   "outputs": [],
   "source": [
    "datasets_base_path = '../03_CT_Scan_Images/' #path to directory with '.mat' datasets\n",
    "datasets = glob.glob(datasets_base_path +'*.mat') #find all '.mat' datasets in the directory\n",
    "dataset_names = [path.replace(datasets_base_path, '').replace('.mat', '') for path in datasets] #extract dataset name"
   ]
  },
  {
   "cell_type": "code",
   "execution_count": 12,
   "metadata": {},
   "outputs": [
    {
     "name": "stdout",
     "output_type": "stream",
     "text": [
      "Mono_3_0.5 dataset is chosen\n",
      "Resulting shape: (548, 548, 548) \n",
      "\n",
      "Uniform_1_0.2 dataset is chosen\n",
      "Resulting shape: (512, 512, 512) \n",
      "\n",
      "Normal_1_0 dataset is chosen\n",
      "Resulting shape: (503, 503, 503) \n",
      "\n",
      "Uniform_2_0 dataset is chosen\n",
      "Resulting shape: (521, 521, 521) \n",
      "\n",
      "Beta_2_0 dataset is chosen\n",
      "Resulting shape: (534, 534, 534) \n",
      "\n",
      "Uniform_2_0.5 dataset is chosen\n",
      "Resulting shape: (531, 531, 531) \n",
      "\n",
      "Mono_1_0 dataset is chosen\n",
      "Resulting shape: (514, 514, 514) \n",
      "\n",
      "Mono_1_0.5 dataset is chosen\n",
      "Resulting shape: (527, 527, 527) \n",
      "\n",
      "Mono_3_0 dataset is chosen\n",
      "Resulting shape: (527, 527, 527) \n",
      "\n",
      "Uniform_3_0.2 dataset is chosen\n",
      "Resulting shape: (523, 523, 523) \n",
      "\n",
      "Normal_1_0.2 dataset is chosen\n",
      "Resulting shape: (519, 519, 519) \n",
      "\n",
      "Uniform_2_0.2 dataset is chosen\n",
      "Resulting shape: (534, 534, 534) \n",
      "\n",
      "Uniform_3_0 dataset is chosen\n",
      "Resulting shape: (526, 526, 526) \n",
      "\n",
      "Uniform_1_0 dataset is chosen\n",
      "Resulting shape: (521, 521, 521) \n",
      "\n",
      "Normal_2_0 dataset is chosen\n",
      "Resulting shape: (525, 525, 525) \n",
      "\n",
      "Normal_1_0.5 dataset is chosen\n",
      "Resulting shape: (526, 526, 526) \n",
      "\n",
      "Uniform_3_0.5 dataset is chosen\n",
      "Resulting shape: (523, 523, 523) \n",
      "\n",
      "Mono_1_0.2 dataset is chosen\n",
      "Resulting shape: (525, 525, 525) \n",
      "\n"
     ]
    }
   ],
   "source": [
    "for id_ in range(len(datasets)):\n",
    "    print(dataset_names[id_] + ' dataset is chosen')\n",
    "    rawMatData = loadmat(datasets[id_]) # load dataset \n",
    "    bwImage = rawMatData[\"bwImage\"]\n",
    "    ctImage = rawMatData[\"ctImage\"]\n",
    "\n",
    "    res_3d, res_porosity = binarize_3d(ctImage) #algorithm prediction\n",
    "\n",
    "    print('Resulting shape:', res_3d.shape, '\\n')\n",
    "    save_compressed = True\n",
    "\n",
    "    flat_data = np.uint8(res_3d.flatten())\n",
    "    dir_to_save = './binarization_results/' #path to save results of prediction\n",
    "\n",
    "    if save_compressed:\n",
    "        dir_to_save += 'npz/'\n",
    "        create_dir(dir_to_save)\n",
    "        filename_3d = dir_to_save + dataset_names[id_] + '_predicted'\n",
    "        filename_por = dir_to_save + dataset_names[id_] + '_predicted_porosity'\n",
    "\n",
    "        np.savez_compressed(filename_3d, data = flat_data)\n",
    "        np.savez_compressed(filename_por, data = res_porosity)\n",
    "\n",
    "    else:\n",
    "        dir_to_save += 'txt/'\n",
    "        create_dir(dir_to_save)\n",
    "        filename_3d = dir_to_save + dataset_names[id_] + '_predicted.txt'\n",
    "        filename_por = dir_to_save + dataset_names[id_] + '_predicted_porosity'\n",
    "\n",
    "        np.savetxt(filename_3d, flat_data, fmt='%i', delimiter='/n')\n",
    "        np.savez_compressed(filename_por, data = res_porosity)"
   ]
  },
  {
   "cell_type": "code",
   "execution_count": 15,
   "metadata": {},
   "outputs": [
    {
     "data": {
      "text/plain": [
       "array([0, 0, 0, ..., 0, 0, 0], dtype=uint8)"
      ]
     },
     "execution_count": 15,
     "metadata": {},
     "output_type": "execute_result"
    }
   ],
   "source": [
    "# Example of loading data\n",
    "np.load(dir_to_save + dataset_names[id_] + '_predicted.npz')['data']"
   ]
  }
 ],
 "metadata": {
  "kernelspec": {
   "display_name": "Python 3",
   "language": "python",
   "name": "python3"
  },
  "language_info": {
   "codemirror_mode": {
    "name": "ipython",
    "version": 3
   },
   "file_extension": ".py",
   "mimetype": "text/x-python",
   "name": "python",
   "nbconvert_exporter": "python",
   "pygments_lexer": "ipython3",
   "version": "3.7.4"
  }
 },
 "nbformat": 4,
 "nbformat_minor": 2
}
